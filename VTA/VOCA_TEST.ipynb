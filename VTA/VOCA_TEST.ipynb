{
  "nbformat": 4,
  "nbformat_minor": 0,
  "metadata": {
    "colab": {
      "provenance": [],
      "authorship_tag": "ABX9TyPc6jFJIsavClft6QiJ7MqI",
      "include_colab_link": true
    },
    "kernelspec": {
      "name": "python3",
      "display_name": "Python 3"
    },
    "language_info": {
      "name": "python"
    }
  },
  "cells": [
    {
      "cell_type": "markdown",
      "metadata": {
        "id": "view-in-github",
        "colab_type": "text"
      },
      "source": [
        "<a href=\"https://colab.research.google.com/github/jmyoon7442/English-Vocabulary/blob/main/VOCA_TEST.ipynb\" target=\"_parent\"><img src=\"https://colab.research.google.com/assets/colab-badge.svg\" alt=\"Open In Colab\"/></a>"
      ]
    },
    {
      "cell_type": "code",
      "source": [
        "%%capture\n",
        "\n",
        "!pip install gradio pandas"
      ],
      "metadata": {
        "id": "YdLud7D99kdB"
      },
      "execution_count": 4,
      "outputs": []
    },
    {
      "cell_type": "code",
      "source": [
        "#@markdown ## VOCA TEST _ Word Meaning Matching Test\n",
        "\n",
        "import pandas as pd\n",
        "import gradio as gr\n",
        "import random\n",
        "import requests\n",
        "\n",
        "# GitHub에서 파일 다운로드\n",
        "url = 'https://github.com/jmyoon7442/English-Vocabulary/raw/main/WALA/%EB%8B%A8%EC%96%B4%20%EC%83%98%ED%94%8C.xlsx'\n",
        "response = requests.get(url)\n",
        "with open('단어_샘플.xlsx', 'wb') as f:\n",
        "    f.write(response.content)\n",
        "\n",
        "# 엑셀 파일 읽기\n",
        "df = pd.read_excel('단어_샘플.xlsx')\n",
        "\n",
        "# 필요한 열만 추출\n",
        "words = df['word'].tolist()\n",
        "examples = df['example'].tolist()\n",
        "meanings = df['meaning'].tolist()\n",
        "\n",
        "# 사용할 데이터 길이 계산 (최대 30)\n",
        "data_length = min(len(words), 30)\n",
        "\n",
        "# 데이터 잘라내기 및 셔플링\n",
        "indices = list(range(data_length))\n",
        "random.shuffle(indices)\n",
        "words = [words[i] for i in indices]\n",
        "examples = [examples[i] for i in indices]\n",
        "meanings = [meanings[i] for i in indices]\n",
        "\n",
        "# 의미 셔플\n",
        "shuffled_meanings = meanings[:]\n",
        "random.shuffle(shuffled_meanings)\n",
        "\n",
        "# 단어와 의미 매칭 함수\n",
        "def check_answers(*selected_meanings):\n",
        "    correct_answers = [meanings[words.index(word)] for word in words]\n",
        "    score = 0\n",
        "    incorrect_indices = []\n",
        "\n",
        "    for i, selected_meaning in enumerate(selected_meanings):\n",
        "        if selected_meaning == correct_answers[i]:\n",
        "            score += 1\n",
        "        else:\n",
        "            incorrect_indices.append(i + 1)\n",
        "\n",
        "    result = f\"Your score is {score}/{data_length}.\\n\"\n",
        "    if incorrect_indices:\n",
        "        result += \"Incorrect questions: \" + \", \".join(map(str, incorrect_indices))\n",
        "    else:\n",
        "        result += \"All answers are correct!\"\n",
        "\n",
        "    return result\n",
        "\n",
        "# Gradio 인터페이스 구성\n",
        "def game_interface():\n",
        "    with gr.Blocks() as app:\n",
        "        gr.Markdown(\"## VOCA TEST\")\n",
        "\n",
        "        selected_meanings = []\n",
        "        for i in range(data_length):\n",
        "            with gr.Row():\n",
        "                with gr.Column():\n",
        "                    gr.Markdown(f\"**{i+1}. {words[i]}**\")\n",
        "                    gr.Markdown(f\"{examples[i]}\")\n",
        "                meaning_dropdown = gr.Dropdown(choices=shuffled_meanings, label=\"Meaning\")\n",
        "                selected_meanings.append(meaning_dropdown)\n",
        "\n",
        "        result = gr.Textbox(label=\"Result\")\n",
        "        submit_button = gr.Button(\"Submit\")\n",
        "\n",
        "        submit_button.click(fn=check_answers,\n",
        "                            inputs=selected_meanings,\n",
        "                            outputs=result)\n",
        "    return app\n",
        "\n",
        "# 게임 실행\n",
        "app = game_interface()\n",
        "app.launch()\n"
      ],
      "metadata": {
        "colab": {
          "base_uri": "https://localhost:8080/",
          "height": 626
        },
        "cellView": "form",
        "id": "n-_PhyxYGOd3",
        "outputId": "fc43b1de-5e24-4642-fabd-7a84aa3cc610"
      },
      "execution_count": 11,
      "outputs": [
        {
          "output_type": "stream",
          "name": "stdout",
          "text": [
            "Setting queue=True in a Colab notebook requires sharing enabled. Setting `share=True` (you can turn this off by setting `share=False` in `launch()` explicitly).\n",
            "\n",
            "Colab notebook detected. To show errors in colab notebook, set debug=True in launch()\n",
            "Running on public URL: https://61d43e9f5069a390e4.gradio.live\n",
            "\n",
            "This share link expires in 72 hours. For free permanent hosting and GPU upgrades, run `gradio deploy` from Terminal to deploy to Spaces (https://huggingface.co/spaces)\n"
          ]
        },
        {
          "output_type": "display_data",
          "data": {
            "text/plain": [
              "<IPython.core.display.HTML object>"
            ],
            "text/html": [
              "<div><iframe src=\"https://61d43e9f5069a390e4.gradio.live\" width=\"100%\" height=\"500\" allow=\"autoplay; camera; microphone; clipboard-read; clipboard-write;\" frameborder=\"0\" allowfullscreen></iframe></div>"
            ]
          },
          "metadata": {}
        },
        {
          "output_type": "execute_result",
          "data": {
            "text/plain": []
          },
          "metadata": {},
          "execution_count": 11
        }
      ]
    }
  ]
}
