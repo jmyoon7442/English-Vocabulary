{
  "nbformat": 4,
  "nbformat_minor": 0,
  "metadata": {
    "colab": {
      "provenance": [],
      "authorship_tag": "ABX9TyPaDjtVZseGco1fAK8HXpl9",
      "include_colab_link": true
    },
    "kernelspec": {
      "name": "python3",
      "display_name": "Python 3"
    },
    "language_info": {
      "name": "python"
    }
  },
  "cells": [
    {
      "cell_type": "markdown",
      "metadata": {
        "id": "view-in-github",
        "colab_type": "text"
      },
      "source": [
        "<a href=\"https://colab.research.google.com/github/jmyoon7442/English-Vocabulary/blob/main/VTA/VOCA_TEST_APP(Demo).ipynb\" target=\"_parent\"><img src=\"https://colab.research.google.com/assets/colab-badge.svg\" alt=\"Open In Colab\"/></a>"
      ]
    },
    {
      "cell_type": "code",
      "source": [
        "#@markdown #### 👉 Install Before Running the Code\n",
        "\n",
        "%%capture\n",
        "\n",
        "!pip install gradio pandas requests openpyxl"
      ],
      "metadata": {
        "id": "YdLud7D99kdB"
      },
      "execution_count": 2,
      "outputs": []
    },
    {
      "cell_type": "markdown",
      "source": [
        "##**📑 VOCA TEST APP**\n",
        "\n",
        "---\n",
        "+ Github에 엑셀파일을 업로드 하고 그 엑셀파일을 기반으로 학생들이 단어를 학습할 수 있는 앱\n",
        "+ 엑셀의 열은 num, word, example, interpretation 순으로 설정\n",
        "+ 다음과 같이 코드 수정\n",
        "\n",
        "```\n",
        "# GitHub에서 파일 다운로드\n",
        "# 1. 주소 내 'blob'을 'raw'로 대체하기.\n",
        "\n",
        "url = 'https://github.com/jmyoon7442/English-Vocabulary/raw/main/WALA/%EB%8B%A8%EC%96%B4%20%EC%83%98%ED%94%8C.xlsx'\n",
        "response = requests.get(url)\n",
        "# 2. '단어_샘플' 부분을 '엑셀파일 제목으로 변경'\n",
        "with open('단어_샘플.xlsx', 'wb') as f:\n",
        "    f.write(response.content)\n",
        "\n",
        "# 엑셀 파일 읽기 : 여기도 같이 바꿔주기\n",
        "df = pd.read_excel('단어_샘플.xlsx')\n",
        "\n",
        "```\n",
        "\n"
      ],
      "metadata": {
        "id": "-lzaWlkuVOr7"
      }
    },
    {
      "cell_type": "code",
      "source": [
        "#@markdown ##📑 VOCA TEST _ Word Meaning Matching Test\n",
        "\n",
        "import pandas as pd\n",
        "import gradio as gr\n",
        "import random\n",
        "import requests\n",
        "\n",
        "# GitHub에서 파일 다운로드\n",
        "# 1. 주소 내 'blob'을 'raw'로 대체하기.\n",
        "\n",
        "url = 'https://github.com/jmyoon7442/English-Vocabulary/raw/main/WALA/%EB%8B%A8%EC%96%B4%20%EC%83%98%ED%94%8C.xlsx'\n",
        "response = requests.get(url)\n",
        "# 2. '단어_샘플' 부분을 '엑셀파일 제목으로 변경'\n",
        "with open('단어_샘플.xlsx', 'wb') as f:\n",
        "    f.write(response.content)\n",
        "\n",
        "# 엑셀 파일 읽기 : 여기도 같이 바꿔주기\n",
        "df = pd.read_excel('단어_샘플.xlsx')\n",
        "\n",
        "# 필요한 열만 추출\n",
        "words = df['word'].tolist()\n",
        "examples = df['example'].tolist()\n",
        "meanings = df['meaning'].tolist()\n",
        "\n",
        "# 사용할 데이터 길이 계산 (최대 30)\n",
        "data_length = min(len(words), 30)\n",
        "\n",
        "# 데이터 잘라내기 및 셔플링\n",
        "indices = list(range(data_length))\n",
        "random.shuffle(indices)\n",
        "words = [words[i] for i in indices]\n",
        "examples = [examples[i] for i in indices]\n",
        "meanings = [meanings[i] for i in indices]\n",
        "\n",
        "# 의미 셔플\n",
        "shuffled_meanings = meanings[:]\n",
        "random.shuffle(shuffled_meanings)\n",
        "\n",
        "# 단어와 의미 매칭 함수\n",
        "def check_answers(*selected_meanings):\n",
        "    correct_answers = [meanings[words.index(word)] for word in words]\n",
        "    score = 0\n",
        "    incorrect_indices = []\n",
        "\n",
        "    for i, selected_meaning in enumerate(selected_meanings):\n",
        "        if selected_meaning == correct_answers[i]:\n",
        "            score += 1\n",
        "        else:\n",
        "            incorrect_indices.append(i + 1)\n",
        "\n",
        "    result = f\"Your score is {score}/{data_length}.\\n\"\n",
        "    if incorrect_indices:\n",
        "        result += \"Incorrect questions: \" + \", \".join(map(str, incorrect_indices))\n",
        "    else:\n",
        "        result += \"All answers are correct!\"\n",
        "\n",
        "    return result\n",
        "\n",
        "# Gradio 인터페이스 구성\n",
        "def game_interface():\n",
        "    with gr.Blocks() as app:\n",
        "        gr.Markdown(\"# 📑 VOCA TEST\")\n",
        "\n",
        "        selected_meanings = []\n",
        "        for i in range(data_length):\n",
        "            with gr.Row():\n",
        "                with gr.Column():\n",
        "                    gr.Markdown(f\"**{i+1}. {words[i]}**\")\n",
        "                    gr.Markdown(f\"{examples[i]}\")\n",
        "                meaning_dropdown = gr.Dropdown(choices=shuffled_meanings, label=\"Meaning\")\n",
        "                selected_meanings.append(meaning_dropdown)\n",
        "\n",
        "        result = gr.Textbox(label=\"Result\")\n",
        "        submit_button = gr.Button(\"Submit\")\n",
        "\n",
        "        submit_button.click(fn=check_answers,\n",
        "                            inputs=selected_meanings,\n",
        "                            outputs=result)\n",
        "    return app\n",
        "\n",
        "# 게임 실행\n",
        "app = game_interface()\n",
        "app.launch()\n"
      ],
      "metadata": {
        "colab": {
          "base_uri": "https://localhost:8080/",
          "height": 626
        },
        "cellView": "form",
        "id": "n-_PhyxYGOd3",
        "outputId": "b7a4ef5c-f29b-4203-9287-523223c42acc"
      },
      "execution_count": null,
      "outputs": [
        {
          "output_type": "stream",
          "name": "stdout",
          "text": [
            "Setting queue=True in a Colab notebook requires sharing enabled. Setting `share=True` (you can turn this off by setting `share=False` in `launch()` explicitly).\n",
            "\n",
            "Colab notebook detected. To show errors in colab notebook, set debug=True in launch()\n",
            "Running on public URL: https://758602ace62f1e847e.gradio.live\n",
            "\n",
            "This share link expires in 72 hours. For free permanent hosting and GPU upgrades, run `gradio deploy` from Terminal to deploy to Spaces (https://huggingface.co/spaces)\n"
          ]
        },
        {
          "output_type": "display_data",
          "data": {
            "text/plain": [
              "<IPython.core.display.HTML object>"
            ],
            "text/html": [
              "<div><iframe src=\"https://758602ace62f1e847e.gradio.live\" width=\"100%\" height=\"500\" allow=\"autoplay; camera; microphone; clipboard-read; clipboard-write;\" frameborder=\"0\" allowfullscreen></iframe></div>"
            ]
          },
          "metadata": {}
        },
        {
          "output_type": "execute_result",
          "data": {
            "text/plain": []
          },
          "metadata": {},
          "execution_count": 20
        }
      ]
    },
    {
      "cell_type": "code",
      "source": [
        "#@markdown ##📑 VOCA TEST _ Word Meaning Matching Test (no example ver.)\n",
        "\n",
        "import pandas as pd\n",
        "import gradio as gr\n",
        "import random\n",
        "import requests\n",
        "\n",
        "# GitHub에서 파일 다운로드\n",
        "# 1. 주소 내 'blob'을 'raw'로 대체하기.\n",
        "\n",
        "url = 'https://github.com/jmyoon7442/English-Vocabulary/raw/main/HY%20VOCA/Data/HY%20Day1.xlsx'\n",
        "response = requests.get(url)\n",
        "# 2. '단어_샘플' 부분을 '엑셀파일 제목으로 변경'\n",
        "with open('HY_VOCA_Day1.xlsx', 'wb') as f:\n",
        "    f.write(response.content)\n",
        "\n",
        "# 엑셀 파일 읽기 : 여기도 같이 바꿔주기\n",
        "df = pd.read_excel('HY_VOCA_Day1.xlsx')\n",
        "\n",
        "# 필요한 열만 추출\n",
        "words = df['word'].tolist()\n",
        "meanings = df['meaning'].tolist()\n",
        "\n",
        "# 사용할 데이터 길이 계산 (최대 30)\n",
        "data_length = min(len(words), 30)\n",
        "\n",
        "# 데이터 잘라내기 및 셔플링\n",
        "indices = list(range(data_length))\n",
        "random.shuffle(indices)\n",
        "words = [words[i] for i in indices]\n",
        "meanings = [meanings[i] for i in indices]\n",
        "\n",
        "# 의미 셔플\n",
        "shuffled_meanings = meanings[:]\n",
        "random.shuffle(shuffled_meanings)\n",
        "\n",
        "# 단어와 의미 매칭 함수\n",
        "def check_answers(*selected_meanings):\n",
        "    correct_answers = [meanings[words.index(word)] for word in words]\n",
        "    score = 0\n",
        "    incorrect_indices = []\n",
        "\n",
        "    for i, selected_meaning in enumerate(selected_meanings):\n",
        "        if selected_meaning == correct_answers[i]:\n",
        "            score += 1\n",
        "        else:\n",
        "            incorrect_indices.append(i + 1)\n",
        "\n",
        "    result = f\"Your score is {score}/{data_length}.\\n\"\n",
        "    if incorrect_indices:\n",
        "        result += \"Incorrect questions: \" + \", \".join(map(str, incorrect_indices))\n",
        "    else:\n",
        "        result += \"All answers are correct!\"\n",
        "\n",
        "    return result\n",
        "\n",
        "# Gradio 인터페이스 구성\n",
        "def game_interface():\n",
        "    with gr.Blocks() as app:\n",
        "        gr.Markdown(\"# 📑 VOCA TEST\")\n",
        "\n",
        "        selected_meanings = []\n",
        "        for i in range(data_length):\n",
        "            with gr.Row():\n",
        "                with gr.Column():\n",
        "                    gr.Markdown(f\"**{i+1}. {words[i]}**\")\n",
        "                meaning_dropdown = gr.Dropdown(choices=shuffled_meanings, label=\"Meaning\")\n",
        "                selected_meanings.append(meaning_dropdown)\n",
        "\n",
        "        result = gr.Textbox(label=\"Result\")\n",
        "        submit_button = gr.Button(\"Submit\")\n",
        "\n",
        "        submit_button.click(fn=check_answers,\n",
        "                            inputs=selected_meanings,\n",
        "                            outputs=result)\n",
        "    return app\n",
        "\n",
        "# 게임 실행\n",
        "app = game_interface()\n",
        "app.launch()\n"
      ],
      "metadata": {
        "colab": {
          "base_uri": "https://localhost:8080/",
          "height": 626
        },
        "cellView": "form",
        "id": "qwhV8EUxgIgd",
        "outputId": "8333f215-b088-4d2f-9b10-bdc26659fc89"
      },
      "execution_count": 4,
      "outputs": [
        {
          "output_type": "stream",
          "name": "stdout",
          "text": [
            "Setting queue=True in a Colab notebook requires sharing enabled. Setting `share=True` (you can turn this off by setting `share=False` in `launch()` explicitly).\n",
            "\n",
            "Colab notebook detected. To show errors in colab notebook, set debug=True in launch()\n",
            "Running on public URL: https://df53d84c3587cf550c.gradio.live\n",
            "\n",
            "This share link expires in 72 hours. For free permanent hosting and GPU upgrades, run `gradio deploy` from Terminal to deploy to Spaces (https://huggingface.co/spaces)\n"
          ]
        },
        {
          "output_type": "display_data",
          "data": {
            "text/plain": [
              "<IPython.core.display.HTML object>"
            ],
            "text/html": [
              "<div><iframe src=\"https://df53d84c3587cf550c.gradio.live\" width=\"100%\" height=\"500\" allow=\"autoplay; camera; microphone; clipboard-read; clipboard-write;\" frameborder=\"0\" allowfullscreen></iframe></div>"
            ]
          },
          "metadata": {}
        },
        {
          "output_type": "execute_result",
          "data": {
            "text/plain": []
          },
          "metadata": {},
          "execution_count": 4
        }
      ]
    }
  ]
}