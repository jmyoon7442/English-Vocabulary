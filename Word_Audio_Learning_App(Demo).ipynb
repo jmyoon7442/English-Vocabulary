{
  "nbformat": 4,
  "nbformat_minor": 0,
  "metadata": {
    "colab": {
      "provenance": [],
      "authorship_tag": "ABX9TyPD4N8h6ipzF3+C90UEpxwp",
      "include_colab_link": true
    },
    "kernelspec": {
      "name": "python3",
      "display_name": "Python 3"
    },
    "language_info": {
      "name": "python"
    }
  },
  "cells": [
    {
      "cell_type": "markdown",
      "metadata": {
        "id": "view-in-github",
        "colab_type": "text"
      },
      "source": [
        "<a href=\"https://colab.research.google.com/github/jmyoon7442/English-Vocabulary/blob/main/Word_Audio_Learning_App(Demo).ipynb\" target=\"_parent\"><img src=\"https://colab.research.google.com/assets/colab-badge.svg\" alt=\"Open In Colab\"/></a>"
      ]
    },
    {
      "cell_type": "code",
      "source": [
        "#@markdown ####  👉 Install Before Start Your Class\n",
        "\n",
        "%%capture\n",
        "!pip install gradio gtts pandas openpyxl"
      ],
      "metadata": {
        "id": "XZ8vMgG1iuWK"
      },
      "execution_count": null,
      "outputs": []
    },
    {
      "cell_type": "markdown",
      "source": [
        "##**📚 Word-Audio Learning APP**\n",
        "\n",
        "---\n",
        "+ Github에 엑셀파일을 업로드 하고 그 엑셀파일을 기반으로 학생들이 단어를 학습할 수 있는 앱\n",
        "+ 엑셀의 열은 num, word, example, interpretation 순으로 설정\n",
        "+ gtts를 통해 단어의 오디오 파일을 생성할 수 있음\n",
        "+ 엑셀 파일 제목이 이 앱의 가장 상단에 앱의 제목으로 사용됨\n",
        "+ 파일 뒤에 ?raw=true  이거 붙여서 raw파일로 만들어주기"
      ],
      "metadata": {
        "id": "2rJWh0iLvnjf"
      }
    },
    {
      "cell_type": "code",
      "source": [
        "### Word-Audio Learning App (Demo)\n",
        "\n",
        "import gradio as gr\n",
        "import pandas as pd\n",
        "from gtts import gTTS\n",
        "\n",
        "# 엑셀 파일 로드\n",
        "url = 'https://github.com/jmyoon7442/English-Vocabulary/blob/main/%EB%8B%A8%EC%96%B4%20%EC%83%98%ED%94%8C.xlsx?raw=true'\n",
        "vocab_df = pd.read_excel(url, engine='openpyxl')\n",
        "\n",
        "# 'num'과 'word'를 합친 새로운 열 생성\n",
        "vocab_df['num_word'] = vocab_df['num'].astype(str) + '. ' + vocab_df['word']\n",
        "\n",
        "# 단어 선택 함수\n",
        "def get_word_info(selected_num_word):\n",
        "    word_info = vocab_df[vocab_df['num_word'] == selected_num_word].iloc[0]\n",
        "    meaning = word_info['word']\n",
        "    example = word_info['example']\n",
        "    interpretation = word_info['interpretation']\n",
        "    word = word_info['word']\n",
        "\n",
        "    # 단어 음성 파일 생성\n",
        "    tts_word = gTTS(word, lang='en')\n",
        "    word_audio_file = f'{word}.mp3'\n",
        "    tts_word.save(word_audio_file)\n",
        "\n",
        "    # 예문 음성 파일 생성\n",
        "    tts_example = gTTS(example, lang='en')\n",
        "    example_audio_file = f'{word}_example.mp3'\n",
        "    tts_example.save(example_audio_file)\n",
        "\n",
        "    return meaning, example, interpretation, word_audio_file, example_audio_file\n",
        "\n",
        "# Gradio 인터페이스 구성\n",
        "with gr.Blocks() as demo:\n",
        "    gr.Markdown(\"# 단어 샘플\")\n",
        "\n",
        "    with gr.Row():\n",
        "        with gr.Column():\n",
        "            word_list = vocab_df['num_word'].tolist()\n",
        "            selected_num_word = gr.Dropdown(choices=word_list, label='단어를 선택하세요:')\n",
        "            submit_button = gr.Button(\"Submit\")\n",
        "\n",
        "        with gr.Column():\n",
        "            meaning_output = gr.Textbox(label=\"뜻\")\n",
        "            word_audio_output = gr.Audio(label=\"단어 오디오\")\n",
        "            example_output = gr.Textbox(label=\"예문\")\n",
        "            interpretation_output = gr.Textbox(label=\"해석\")\n",
        "            example_audio_output = gr.Audio(label=\"예문 오디오\")\n",
        "\n",
        "    submit_button.click(fn=get_word_info, inputs=selected_num_word, outputs=[meaning_output, example_output, interpretation_output, word_audio_output, example_audio_output])\n",
        "\n",
        "demo.launch()\n"
      ],
      "metadata": {
        "colab": {
          "base_uri": "https://localhost:8080/",
          "height": 626
        },
        "id": "6oGTBZImGciA",
        "outputId": "20cc5f39-40fe-4639-827b-184f93277e16"
      },
      "execution_count": 17,
      "outputs": [
        {
          "output_type": "stream",
          "name": "stdout",
          "text": [
            "Setting queue=True in a Colab notebook requires sharing enabled. Setting `share=True` (you can turn this off by setting `share=False` in `launch()` explicitly).\n",
            "\n",
            "Colab notebook detected. To show errors in colab notebook, set debug=True in launch()\n",
            "Running on public URL: https://dd970b3550a34ab90f.gradio.live\n",
            "\n",
            "This share link expires in 72 hours. For free permanent hosting and GPU upgrades, run `gradio deploy` from Terminal to deploy to Spaces (https://huggingface.co/spaces)\n"
          ]
        },
        {
          "output_type": "display_data",
          "data": {
            "text/plain": [
              "<IPython.core.display.HTML object>"
            ],
            "text/html": [
              "<div><iframe src=\"https://dd970b3550a34ab90f.gradio.live\" width=\"100%\" height=\"500\" allow=\"autoplay; camera; microphone; clipboard-read; clipboard-write;\" frameborder=\"0\" allowfullscreen></iframe></div>"
            ]
          },
          "metadata": {}
        },
        {
          "output_type": "execute_result",
          "data": {
            "text/plain": []
          },
          "metadata": {},
          "execution_count": 17
        }
      ]
    }
  ]
}